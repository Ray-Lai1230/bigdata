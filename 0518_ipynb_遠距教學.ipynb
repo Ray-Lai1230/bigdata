{
  "nbformat": 4,
  "nbformat_minor": 0,
  "metadata": {
    "colab": {
      "name": "0518.ipynb 遠距教學",
      "provenance": [],
      "collapsed_sections": [],
      "include_colab_link": true
    },
    "kernelspec": {
      "name": "ir",
      "display_name": "R"
    }
  },
  "cells": [
    {
      "cell_type": "markdown",
      "metadata": {
        "id": "view-in-github",
        "colab_type": "text"
      },
      "source": [
        "<a href=\"https://colab.research.google.com/github/Ray-Lai1230/bigdata/blob/main/0518_ipynb_%E9%81%A0%E8%B7%9D%E6%95%99%E5%AD%B8.ipynb\" target=\"_parent\"><img src=\"https://colab.research.google.com/assets/colab-badge.svg\" alt=\"Open In Colab\"/></a>"
      ]
    },
    {
      "cell_type": "code",
      "metadata": {
        "colab": {
          "base_uri": "https://localhost:8080/"
        },
        "id": "HX9CwV7AiTrC",
        "outputId": "7e0b8332-51b8-43ae-9a16-e45e822c7f63"
      },
      "source": [
        "install.packages(\"SportsAnalytics\")"
      ],
      "execution_count": 4,
      "outputs": [
        {
          "output_type": "stream",
          "text": [
            "Installing package into ‘/usr/local/lib/R/site-library’\n",
            "(as ‘lib’ is unspecified)\n",
            "\n"
          ],
          "name": "stderr"
        }
      ]
    },
    {
      "cell_type": "code",
      "metadata": {
        "colab": {
          "base_uri": "https://localhost:8080/"
        },
        "id": "pJTVi1d1igQZ",
        "outputId": "f5e17a0a-e474-44c4-f2d2-64de941810d0"
      },
      "source": [
        "install.packages(\"ggplot2\")"
      ],
      "execution_count": 5,
      "outputs": [
        {
          "output_type": "stream",
          "text": [
            "Installing package into ‘/usr/local/lib/R/site-library’\n",
            "(as ‘lib’ is unspecified)\n",
            "\n"
          ],
          "name": "stderr"
        }
      ]
    },
    {
      "cell_type": "code",
      "metadata": {
        "id": "apVctUzgisyM"
      },
      "source": [
        "library(SportsAnalytics)"
      ],
      "execution_count": 6,
      "outputs": []
    },
    {
      "cell_type": "code",
      "metadata": {
        "id": "praaVMNViyaR"
      },
      "source": [
        "library(ggplot2)"
      ],
      "execution_count": 8,
      "outputs": []
    },
    {
      "cell_type": "code",
      "metadata": {
        "id": "fOnpRuC2jYxC"
      },
      "source": [
        "NBA1718<-fetch_NBAPlayerStatistics(\"17-18\")"
      ],
      "execution_count": 12,
      "outputs": []
    },
    {
      "cell_type": "code",
      "metadata": {
        "colab": {
          "base_uri": "https://localhost:8080/",
          "height": 1000
        },
        "id": "Ye6MlwntjYpS",
        "outputId": "30bb5b6c-e010-47bb-de00-dd79e814214d"
      },
      "source": [
        "ggplot(NBA1718,aes(x=otalMinutesPlayed,y=TotalPoints))+geom_point()+geom_smooth(method = \"glm\")"
      ],
      "execution_count": 13,
      "outputs": [
        {
          "output_type": "stream",
          "text": [
            "ERROR while rich displaying an object: Error in FUN(X[[i]], ...): object 'otalMinutesPlayed' not found\n",
            "\n",
            "Traceback:\n",
            "1. FUN(X[[i]], ...)\n",
            "2. tryCatch(withCallingHandlers({\n",
            " .     if (!mime %in% names(repr::mime2repr)) \n",
            " .         stop(\"No repr_* for mimetype \", mime, \" in repr::mime2repr\")\n",
            " .     rpr <- repr::mime2repr[[mime]](obj)\n",
            " .     if (is.null(rpr)) \n",
            " .         return(NULL)\n",
            " .     prepare_content(is.raw(rpr), rpr)\n",
            " . }, error = error_handler), error = outer_handler)\n",
            "3. tryCatchList(expr, classes, parentenv, handlers)\n",
            "4. tryCatchOne(expr, names, parentenv, handlers[[1L]])\n",
            "5. doTryCatch(return(expr), name, parentenv, handler)\n",
            "6. withCallingHandlers({\n",
            " .     if (!mime %in% names(repr::mime2repr)) \n",
            " .         stop(\"No repr_* for mimetype \", mime, \" in repr::mime2repr\")\n",
            " .     rpr <- repr::mime2repr[[mime]](obj)\n",
            " .     if (is.null(rpr)) \n",
            " .         return(NULL)\n",
            " .     prepare_content(is.raw(rpr), rpr)\n",
            " . }, error = error_handler)\n",
            "7. repr::mime2repr[[mime]](obj)\n",
            "8. repr_text.default(obj)\n",
            "9. paste(capture.output(print(obj)), collapse = \"\\n\")\n",
            "10. capture.output(print(obj))\n",
            "11. evalVis(expr)\n",
            "12. withVisible(eval(expr, pf))\n",
            "13. eval(expr, pf)\n",
            "14. eval(expr, pf)\n",
            "15. print(obj)\n",
            "16. print.ggplot(obj)\n",
            "17. ggplot_build(x)\n",
            "18. ggplot_build.ggplot(x)\n",
            "19. by_layer(function(l, d) l$compute_aesthetics(d, plot))\n",
            "20. f(l = layers[[i]], d = data[[i]])\n",
            "21. l$compute_aesthetics(d, plot)\n",
            "22. f(..., self = self)\n",
            "23. scales_add_defaults(plot$scales, data, aesthetics, plot$plot_env)\n",
            "24. lapply(aesthetics[new_aesthetics], eval_tidy, data = data)\n",
            "25. FUN(X[[i]], ...)\n"
          ],
          "name": "stderr"
        },
        {
          "output_type": "display_data",
          "data": {
            "image/png": "[encoded data removed]",
            "text/plain": [
              "plot without title"
            ]
          },
          "metadata": {
            "tags": [],
            "image/png": {
              "width": 420,
              "height": 420
            }
          }
        }
      ]
    },
    {
      "cell_type": "code",
      "metadata": {
        "colab": {
          "base_uri": "https://localhost:8080/",
          "height": 139
        },
        "id": "kY30bXdQj-Dj",
        "outputId": "01c691cb-301e-4c42-bcfa-66e2c77f8231"
      },
      "source": [
        "lm(TotalPoints~TotalMinutesPlayed,data =NBA1718)"
      ],
      "execution_count": 16,
      "outputs": [
        {
          "output_type": "display_data",
          "data": {
            "text/plain": [
              "\n",
              "Call:\n",
              "lm(formula = TotalPoints ~ TotalMinutesPlayed, data = NBA1718)\n",
              "\n",
              "Coefficients:\n",
              "       (Intercept)  TotalMinutesPlayed  \n",
              "          -69.7978              0.5041  \n"
            ]
          },
          "metadata": {
            "tags": []
          }
        }
      ]
    },
    {
      "cell_type": "code",
      "metadata": {
        "colab": {
          "base_uri": "https://localhost:8080/",
          "height": 208
        },
        "id": "p37_9KDNkudy",
        "outputId": "37d446f9-4de3-44e8-a26c-f53e0fc198f9"
      },
      "source": [
        "glm(TotalPoints~TotalMinutesPlayed+FieldGoalsAttempted,data =NBA1718)"
      ],
      "execution_count": 19,
      "outputs": [
        {
          "output_type": "display_data",
          "data": {
            "text/plain": [
              "\n",
              "Call:  glm(formula = TotalPoints ~ TotalMinutesPlayed + FieldGoalsAttempted, \n",
              "    data = NBA1718)\n",
              "\n",
              "Coefficients:\n",
              "        (Intercept)   TotalMinutesPlayed  FieldGoalsAttempted  \n",
              "         -12.081943            -0.009009             1.291930  \n",
              "\n",
              "Degrees of Freedom: 539 Total (i.e. Null);  537 Residual\n",
              "Null Deviance:\t    117600000 \n",
              "Residual Deviance: 2176000 \tAIC: 6023"
            ]
          },
          "metadata": {
            "tags": []
          }
        }
      ]
    },
    {
      "cell_type": "code",
      "metadata": {
        "colab": {
          "base_uri": "https://localhost:8080/",
          "height": 295
        },
        "id": "tNooAlBHkRO1",
        "outputId": "04ec9b49-4cae-41a9-d560-a8998b6d4b25"
      },
      "source": [
        "glm(TotalPoints~TotalMinutesPlayed+FieldGoalsAttempted+Position,\n",
        "    data =NBA1718)"
      ],
      "execution_count": 18,
      "outputs": [
        {
          "output_type": "display_data",
          "data": {
            "text/plain": [
              "\n",
              "Call:  glm(formula = TotalPoints ~ TotalMinutesPlayed + FieldGoalsAttempted + \n",
              "    Position, data = NBA1718)\n",
              "\n",
              "Coefficients:\n",
              "        (Intercept)   TotalMinutesPlayed  FieldGoalsAttempted  \n",
              "           29.02535             -0.01681              1.31181  \n",
              "         PositionPF           PositionPG           PositionSF  \n",
              "          -29.81577            -57.56647            -39.12716  \n",
              "         PositionSG  \n",
              "          -58.55942  \n",
              "\n",
              "Degrees of Freedom: 538 Total (i.e. Null);  532 Residual\n",
              "  (1 observation deleted due to missingness)\n",
              "Null Deviance:\t    117300000 \n",
              "Residual Deviance: 1963000 \tAIC: 5966"
            ]
          },
          "metadata": {
            "tags": []
          }
        }
      ]
    },
    {
      "cell_type": "code",
      "metadata": {
        "id": "gBtsqVe5jWt6"
      },
      "source": [
        "mydata <- read.csv(\"https://raw.githubusercontent.com/CGUIM-BigDataAnalysis/BigDataCGUIM/master/binary.csv\")"
      ],
      "execution_count": 22,
      "outputs": []
    },
    {
      "cell_type": "code",
      "metadata": {
        "colab": {
          "base_uri": "https://localhost:8080/",
          "height": 281
        },
        "id": "IZVTcppZk7H8",
        "outputId": "5c893bae-389a-48af-f3ac-37373603cd98"
      },
      "source": [
        "head(mydata)"
      ],
      "execution_count": 23,
      "outputs": [
        {
          "output_type": "display_data",
          "data": {
            "text/plain": [
              "  admit gre gpa  rank\n",
              "1 0     380 3.61 3   \n",
              "2 1     660 3.67 3   \n",
              "3 1     800 4.00 1   \n",
              "4 1     640 3.19 4   \n",
              "5 0     520 2.93 4   \n",
              "6 1     760 3.00 2   "
            ],
            "text/latex": "A data.frame: 6 × 4\n\\begin{tabular}{r|llll}\n  & admit & gre & gpa & rank\\\\\n  & <int> & <int> & <dbl> & <int>\\\\\n\\hline\n\t1 & 0 & 380 & 3.61 & 3\\\\\n\t2 & 1 & 660 & 3.67 & 3\\\\\n\t3 & 1 & 800 & 4.00 & 1\\\\\n\t4 & 1 & 640 & 3.19 & 4\\\\\n\t5 & 0 & 520 & 2.93 & 4\\\\\n\t6 & 1 & 760 & 3.00 & 2\\\\\n\\end{tabular}\n",
            "text/markdown": "\nA data.frame: 6 × 4\n\n| <!--/--> | admit &lt;int&gt; | gre &lt;int&gt; | gpa &lt;dbl&gt; | rank &lt;int&gt; |\n|---|---|---|---|---|\n| 1 | 0 | 380 | 3.61 | 3 |\n| 2 | 1 | 660 | 3.67 | 3 |\n| 3 | 1 | 800 | 4.00 | 1 |\n| 4 | 1 | 640 | 3.19 | 4 |\n| 5 | 0 | 520 | 2.93 | 4 |\n| 6 | 1 | 760 | 3.00 | 2 |\n\n",
            "text/html": [
              "<table class=\"dataframe\">\n",
              "<caption>A data.frame: 6 × 4</caption>\n",
              "<thead>\n",
              "\t<tr><th></th><th scope=col>admit</th><th scope=col>gre</th><th scope=col>gpa</th><th scope=col>rank</th></tr>\n",
              "\t<tr><th></th><th scope=col>&lt;int&gt;</th><th scope=col>&lt;int&gt;</th><th scope=col>&lt;dbl&gt;</th><th scope=col>&lt;int&gt;</th></tr>\n",
              "</thead>\n",
              "<tbody>\n",
              "\t<tr><th scope=row>1</th><td>0</td><td>380</td><td>3.61</td><td>3</td></tr>\n",
              "\t<tr><th scope=row>2</th><td>1</td><td>660</td><td>3.67</td><td>3</td></tr>\n",
              "\t<tr><th scope=row>3</th><td>1</td><td>800</td><td>4.00</td><td>1</td></tr>\n",
              "\t<tr><th scope=row>4</th><td>1</td><td>640</td><td>3.19</td><td>4</td></tr>\n",
              "\t<tr><th scope=row>5</th><td>0</td><td>520</td><td>2.93</td><td>4</td></tr>\n",
              "\t<tr><th scope=row>6</th><td>1</td><td>760</td><td>3.00</td><td>2</td></tr>\n",
              "</tbody>\n",
              "</table>\n"
            ]
          },
          "metadata": {
            "tags": []
          }
        }
      ]
    },
    {
      "cell_type": "code",
      "metadata": {
        "id": "irY1R0u_lTc_"
      },
      "source": [
        "mydata$rank <- factor(mydata$rank)\n",
        "mylogit <- glm(admit~gre+gpa+rank,data=mydata, family=\"binomial\")"
      ],
      "execution_count": 24,
      "outputs": []
    },
    {
      "cell_type": "code",
      "metadata": {
        "colab": {
          "base_uri": "https://localhost:8080/",
          "height": 250
        },
        "id": "b0NniaVPlwz2",
        "outputId": "8bc306f5-75d4-47aa-fadc-f5df802e2e2c"
      },
      "source": [
        "sum<-summary(mylogit)\n",
        "sum$coefficients"
      ],
      "execution_count": 25,
      "outputs": [
        {
          "output_type": "display_data",
          "data": {
            "text/plain": [
              "            Estimate     Std. Error  z value   Pr(>|z|)    \n",
              "(Intercept) -3.989979073 1.139950936 -3.500132 0.0004650273\n",
              "gre          0.002264426 0.001093998  2.069864 0.0384651284\n",
              "gpa          0.804037549 0.331819298  2.423119 0.0153878974\n",
              "rank2       -0.675442928 0.316489661 -2.134171 0.0328288188\n",
              "rank3       -1.340203916 0.345306418 -3.881202 0.0001039415\n",
              "rank4       -1.551463677 0.417831633 -3.713131 0.0002047107"
            ],
            "text/latex": "A matrix: 6 × 4 of type dbl\n\\begin{tabular}{r|llll}\n  & Estimate & Std. Error & z value & Pr(>\\textbar{}z\\textbar{})\\\\\n\\hline\n\t(Intercept) & -3.989979073 & 1.139950936 & -3.500132 & 0.0004650273\\\\\n\tgre &  0.002264426 & 0.001093998 &  2.069864 & 0.0384651284\\\\\n\tgpa &  0.804037549 & 0.331819298 &  2.423119 & 0.0153878974\\\\\n\trank2 & -0.675442928 & 0.316489661 & -2.134171 & 0.0328288188\\\\\n\trank3 & -1.340203916 & 0.345306418 & -3.881202 & 0.0001039415\\\\\n\trank4 & -1.551463677 & 0.417831633 & -3.713131 & 0.0002047107\\\\\n\\end{tabular}\n",
            "text/markdown": "\nA matrix: 6 × 4 of type dbl\n\n| <!--/--> | Estimate | Std. Error | z value | Pr(&gt;|z|) |\n|---|---|---|---|---|\n| (Intercept) | -3.989979073 | 1.139950936 | -3.500132 | 0.0004650273 |\n| gre |  0.002264426 | 0.001093998 |  2.069864 | 0.0384651284 |\n| gpa |  0.804037549 | 0.331819298 |  2.423119 | 0.0153878974 |\n| rank2 | -0.675442928 | 0.316489661 | -2.134171 | 0.0328288188 |\n| rank3 | -1.340203916 | 0.345306418 | -3.881202 | 0.0001039415 |\n| rank4 | -1.551463677 | 0.417831633 | -3.713131 | 0.0002047107 |\n\n",
            "text/html": [
              "<table class=\"dataframe\">\n",
              "<caption>A matrix: 6 × 4 of type dbl</caption>\n",
              "<thead>\n",
              "\t<tr><th></th><th scope=col>Estimate</th><th scope=col>Std. Error</th><th scope=col>z value</th><th scope=col>Pr(&gt;|z|)</th></tr>\n",
              "</thead>\n",
              "<tbody>\n",
              "\t<tr><th scope=row>(Intercept)</th><td>-3.989979073</td><td>1.139950936</td><td>-3.500132</td><td>0.0004650273</td></tr>\n",
              "\t<tr><th scope=row>gre</th><td> 0.002264426</td><td>0.001093998</td><td> 2.069864</td><td>0.0384651284</td></tr>\n",
              "\t<tr><th scope=row>gpa</th><td> 0.804037549</td><td>0.331819298</td><td> 2.423119</td><td>0.0153878974</td></tr>\n",
              "\t<tr><th scope=row>rank2</th><td>-0.675442928</td><td>0.316489661</td><td>-2.134171</td><td>0.0328288188</td></tr>\n",
              "\t<tr><th scope=row>rank3</th><td>-1.340203916</td><td>0.345306418</td><td>-3.881202</td><td>0.0001039415</td></tr>\n",
              "\t<tr><th scope=row>rank4</th><td>-1.551463677</td><td>0.417831633</td><td>-3.713131</td><td>0.0002047107</td></tr>\n",
              "</tbody>\n",
              "</table>\n"
            ]
          },
          "metadata": {
            "tags": []
          }
        }
      ]
    },
    {
      "cell_type": "code",
      "metadata": {
        "colab": {
          "base_uri": "https://localhost:8080/"
        },
        "id": "NRdDZxdMmdDx",
        "outputId": "1b817802-16d0-466e-809b-fcfafbf3c0fb"
      },
      "source": [
        "install.packages(\"rpart\")"
      ],
      "execution_count": 26,
      "outputs": [
        {
          "output_type": "stream",
          "text": [
            "Installing package into ‘/usr/local/lib/R/site-library’\n",
            "(as ‘lib’ is unspecified)\n",
            "\n"
          ],
          "name": "stderr"
        }
      ]
    },
    {
      "cell_type": "code",
      "metadata": {
        "id": "ncYZ9nq1m-Wh"
      },
      "source": [
        "library(rpart)"
      ],
      "execution_count": 28,
      "outputs": []
    },
    {
      "cell_type": "code",
      "metadata": {
        "id": "XC1rIS_hnCKZ"
      },
      "source": [
        "DT<-rpart(Position~Blocks+ThreesMade+Assists+Steals,data=NBA1718)"
      ],
      "execution_count": 29,
      "outputs": []
    },
    {
      "cell_type": "code",
      "metadata": {
        "colab": {
          "base_uri": "https://localhost:8080/",
          "height": 711
        },
        "id": "8UEFts87nXhs",
        "outputId": "94f176ef-07e3-4d73-9fc5-60f088148bd6"
      },
      "source": [
        "DT"
      ],
      "execution_count": 30,
      "outputs": [
        {
          "output_type": "display_data",
          "data": {
            "text/plain": [
              "n=539 (1 observation deleted due to missingness)\n",
              "\n",
              "node), split, n, loss, yval, (yprob)\n",
              "      * denotes terminal node\n",
              "\n",
              "  1) root 539 398 SG (0.14 0.21 0.2 0.19 0.26)  \n",
              "    2) Blocks>=36.5 108  68 C (0.37 0.29 0.037 0.23 0.074)  \n",
              "      4) ThreesMade< 6 35   8 C (0.77 0.17 0 0.057 0) *\n",
              "      5) ThreesMade>=6 73  48 PF (0.18 0.34 0.055 0.32 0.11)  \n",
              "       10) Assists< 159.5 40  19 PF (0.12 0.53 0 0.33 0.025)  \n",
              "         20) Steals< 64 33  13 PF (0.15 0.61 0 0.21 0.03) *\n",
              "         21) Steals>=64 7   1 SF (0 0.14 0 0.86 0) *\n",
              "       11) Assists>=159.5 33  23 SF (0.24 0.12 0.12 0.3 0.21)  \n",
              "         22) Blocks>=60.5 15   7 C (0.53 0.13 0.067 0.2 0.067) *\n",
              "         23) Blocks< 60.5 18  11 SF (0 0.11 0.17 0.39 0.33) *\n",
              "    3) Blocks< 36.5 431 298 SG (0.086 0.19 0.24 0.18 0.31)  \n",
              "      6) Assists< 151.5 337 238 SG (0.11 0.23 0.16 0.21 0.29)  \n",
              "       12) ThreesMade< 2.5 113  79 PF (0.27 0.3 0.13 0.13 0.17)  \n",
              "         24) Blocks>=1.5 49  24 C (0.51 0.35 0.041 0.041 0.061) *\n",
              "         25) Blocks< 1.5 64  47 PF (0.078 0.27 0.2 0.2 0.25)  \n",
              "           50) Assists>=3.5 15   7 PG (0 0.2 0.53 0.067 0.2) *\n",
              "           51) Assists< 3.5 49  35 PF (0.1 0.29 0.1 0.24 0.27)  \n",
              "            102) Assists< 0.5 29  17 PF (0.034 0.41 0.1 0.24 0.21) *\n",
              "            103) Assists>=0.5 20  13 SG (0.2 0.1 0.1 0.25 0.35) *\n",
              "       13) ThreesMade>=2.5 224 144 SG (0.027 0.2 0.17 0.25 0.36)  \n",
              "         26) Blocks>=9.5 101  65 SF (0.05 0.28 0.05 0.36 0.27)  \n",
              "           52) Steals< 70.5 91  63 PF (0.055 0.31 0.044 0.31 0.29)  \n",
              "            104) Blocks>=20.5 40  21 PF (0.05 0.48 0.05 0.23 0.2) *\n",
              "            105) Blocks< 20.5 51  32 SF (0.059 0.18 0.039 0.37 0.35)  \n",
              "              210) Steals< 26 21  11 SF (0.14 0.29 0 0.48 0.095) *\n",
              "              211) Steals>=26 30  14 SG (0 0.1 0.067 0.3 0.53) *\n",
              "           53) Steals>=70.5 10   2 SF (0 0 0.1 0.8 0.1) *\n",
              "         27) Blocks< 9.5 123  70 SG (0.0081 0.13 0.27 0.16 0.43)  \n",
              "           54) Assists< 31.5 75  43 SG (0.013 0.2 0.15 0.21 0.43) *\n",
              "           55) Assists>=31.5 48  26 PG (0 0.021 0.46 0.083 0.44)  \n",
              "            110) ThreesMade< 37.5 26   7 PG (0 0.038 0.73 0.077 0.15) *\n",
              "            111) ThreesMade>=37.5 22   5 SG (0 0 0.14 0.091 0.77) *\n",
              "      7) Assists>=151.5 94  44 PG (0.011 0.043 0.53 0.053 0.36)  \n",
              "       14) Blocks< 13.5 34   5 PG (0 0 0.85 0.029 0.12) *\n",
              "       15) Blocks>=13.5 60  30 SG (0.017 0.067 0.35 0.067 0.5) *"
            ]
          },
          "metadata": {
            "tags": []
          }
        }
      ]
    },
    {
      "cell_type": "code",
      "metadata": {
        "colab": {
          "base_uri": "https://localhost:8080/",
          "height": 437
        },
        "id": "QUlZlg2xnnVK",
        "outputId": "9989176e-6451-4009-91b0-7cb8ffe65fa8"
      },
      "source": [
        "par(mfrow=c(1,1),mar=rep(1,4))\n",
        "plot(DT)\n",
        "text(DT,use.n=F,all=F,cex=1)"
      ],
      "execution_count": 31,
      "outputs": [
        {
          "output_type": "display_data",
          "data": {
            "image/png": "[encoded data removed]",
            "text/plain": [
              "plot without title"
            ]
          },
          "metadata": {
            "tags": [],
            "image/png": {
              "width": 420,
              "height": 420
            }
          }
        }
      ]
    },
    {
      "cell_type": "code",
      "metadata": {
        "colab": {
          "base_uri": "https://localhost:8080/"
        },
        "id": "fYenuhSFn_H_",
        "outputId": "93f176d6-f570-4fe0-da46-b3f5cbb884bf"
      },
      "source": [
        "install.packages(\"rpart.plot\")"
      ],
      "execution_count": 32,
      "outputs": [
        {
          "output_type": "stream",
          "text": [
            "Installing package into ‘/usr/local/lib/R/site-library’\n",
            "(as ‘lib’ is unspecified)\n",
            "\n"
          ],
          "name": "stderr"
        }
      ]
    },
    {
      "cell_type": "code",
      "metadata": {
        "colab": {
          "base_uri": "https://localhost:8080/",
          "height": 437
        },
        "id": "lW4LSoN-oFV2",
        "outputId": "36a9ebae-a86f-4449-f27d-5afe86e1ff17"
      },
      "source": [
        "library(rpart.plot)\n",
        "prp(DT)"
      ],
      "execution_count": 34,
      "outputs": [
        {
          "output_type": "display_data",
          "data": {
            "image/png": "[encoded data removed]",
            "text/plain": [
              "plot without title"
            ]
          },
          "metadata": {
            "tags": [],
            "image/png": {
              "width": 420,
              "height": 420
            }
          }
        }
      ]
    },
    {
      "cell_type": "code",
      "metadata": {
        "colab": {
          "base_uri": "https://localhost:8080/"
        },
        "id": "ilWId5_koMds",
        "outputId": "da3ac2b2-40d4-4421-fd09-d65c120cc541"
      },
      "source": [
        "install.packages(\"arules\")"
      ],
      "execution_count": 35,
      "outputs": [
        {
          "output_type": "stream",
          "text": [
            "Installing package into ‘/usr/local/lib/R/site-library’\n",
            "(as ‘lib’ is unspecified)\n",
            "\n"
          ],
          "name": "stderr"
        }
      ]
    },
    {
      "cell_type": "code",
      "metadata": {
        "colab": {
          "base_uri": "https://localhost:8080/"
        },
        "id": "EjMH6uUWoQz_",
        "outputId": "67a119d1-42a4-4e96-decd-01effba1c57c"
      },
      "source": [
        "library(arules)"
      ],
      "execution_count": 37,
      "outputs": [
        {
          "output_type": "stream",
          "text": [
            "Loading required package: Matrix\n",
            "\n",
            "\n",
            "Attaching package: ‘arules’\n",
            "\n",
            "\n",
            "The following objects are masked from ‘package:base’:\n",
            "\n",
            "    abbreviate, write\n",
            "\n",
            "\n"
          ],
          "name": "stderr"
        }
      ]
    },
    {
      "cell_type": "code",
      "metadata": {
        "colab": {
          "base_uri": "https://localhost:8080/"
        },
        "id": "-8ff9MGloUOZ",
        "outputId": "6084e572-bbfa-411f-8064-e75824d56279"
      },
      "source": [
        "install.packages(\"datasets\")"
      ],
      "execution_count": 36,
      "outputs": [
        {
          "output_type": "stream",
          "text": [
            "Installing package into ‘/usr/local/lib/R/site-library’\n",
            "(as ‘lib’ is unspecified)\n",
            "\n",
            "Warning message:\n",
            "“package ‘datasets’ is a base package, and should not be updated”\n"
          ],
          "name": "stderr"
        }
      ]
    },
    {
      "cell_type": "code",
      "metadata": {
        "id": "aFMAF7tJoa_4"
      },
      "source": [
        "library(datasets)"
      ],
      "execution_count": 39,
      "outputs": []
    },
    {
      "cell_type": "code",
      "metadata": {
        "colab": {
          "base_uri": "https://localhost:8080/",
          "height": 35
        },
        "id": "lABoFCsyojw_",
        "outputId": "1fc90aa5-0a3e-49ff-8c10-46b4d1beacc8"
      },
      "source": [
        "data(Groceries)\n",
        "Groceries@data@Dim"
      ],
      "execution_count": 41,
      "outputs": [
        {
          "output_type": "display_data",
          "data": {
            "text/plain": [
              "[1]  169 9835"
            ],
            "text/latex": "\\begin{enumerate*}\n\\item 169\n\\item 9835\n\\end{enumerate*}\n",
            "text/markdown": "1. 169\n2. 9835\n\n\n",
            "text/html": [
              "<style>\n",
              ".list-inline {list-style: none; margin:0; padding: 0}\n",
              ".list-inline>li {display: inline-block}\n",
              ".list-inline>li:not(:last-child)::after {content: \"\\00b7\"; padding: 0 .5ex}\n",
              "</style>\n",
              "<ol class=list-inline><li>169</li><li>9835</li></ol>\n"
            ]
          },
          "metadata": {
            "tags": []
          }
        }
      ]
    },
    {
      "cell_type": "code",
      "metadata": {
        "colab": {
          "base_uri": "https://localhost:8080/"
        },
        "id": "i6-LROw2o0eu",
        "outputId": "f16f1828-8364-4d59-9d27-1e4c1f3b099a"
      },
      "source": [
        "rules <- apriori(Groceries,parameter=list(supp=0.001,conf=0.8),control=list(verbose=F))\n",
        "options(digits=2)\n",
        "inspect(rules[1:5])"
      ],
      "execution_count": 42,
      "outputs": [
        {
          "output_type": "stream",
          "text": [
            "    lhs                        rhs            support confidence coverage lift\n",
            "[1] {liquor,red/blush wine} => {bottled beer} 0.0019  0.90       0.0021   11.2\n",
            "[2] {curd,cereals}          => {whole milk}   0.0010  0.91       0.0011    3.6\n",
            "[3] {yogurt,cereals}        => {whole milk}   0.0017  0.81       0.0021    3.2\n",
            "[4] {butter,jam}            => {whole milk}   0.0010  0.83       0.0012    3.3\n",
            "[5] {soups,bottled beer}    => {whole milk}   0.0011  0.92       0.0012    3.6\n",
            "    count\n",
            "[1] 19   \n",
            "[2] 10   \n",
            "[3] 17   \n",
            "[4] 10   \n",
            "[5] 11   \n"
          ],
          "name": "stdout"
        }
      ]
    },
    {
      "cell_type": "code",
      "metadata": {
        "colab": {
          "base_uri": "https://localhost:8080/"
        },
        "id": "8I7E_nMJqNmY",
        "outputId": "a3ed3878-fb05-4450-ca57-b66eb7186d76"
      },
      "source": [
        "rules<-sort(rules,by=\"confidence\",decreasing=TRUE)\n",
        "inspect(rules[1:5])"
      ],
      "execution_count": 43,
      "outputs": [
        {
          "output_type": "stream",
          "text": [
            "    lhs                     rhs          support confidence coverage lift count\n",
            "[1] {rice,                                                                     \n",
            "     sugar}              => {whole milk}  0.0012          1   0.0012  3.9    12\n",
            "[2] {canned fish,                                                              \n",
            "     hygiene articles}   => {whole milk}  0.0011          1   0.0011  3.9    11\n",
            "[3] {root vegetables,                                                          \n",
            "     butter,                                                                   \n",
            "     rice}               => {whole milk}  0.0010          1   0.0010  3.9    10\n",
            "[4] {root vegetables,                                                          \n",
            "     whipped/sour cream,                                                       \n",
            "     flour}              => {whole milk}  0.0017          1   0.0017  3.9    17\n",
            "[5] {butter,                                                                   \n",
            "     soft cheese,                                                              \n",
            "     domestic eggs}      => {whole milk}  0.0010          1   0.0010  3.9    10\n"
          ],
          "name": "stdout"
        }
      ]
    },
    {
      "cell_type": "code",
      "metadata": {
        "colab": {
          "base_uri": "https://localhost:8080/"
        },
        "id": "EW7f41oCqgNR",
        "outputId": "8a5629d2-45c4-4aba-81b6-68a98ad85413"
      },
      "source": [
        "rulesR<-apriori(Groceries,parameter=list(supp=0.001,conf=0.08),appearance=list(default=\"lhs\",rhs=\"whole milk\"),control=list(verbose=F))   #買了什麼的人，會買牛奶\n",
        "rulesR<-sort(rulesR,decreasing=TRUE,by=\"confidence\")\n",
        "inspect(rulesR[1:5])"
      ],
      "execution_count": 44,
      "outputs": [
        {
          "output_type": "stream",
          "text": [
            "    lhs                     rhs          support confidence coverage lift count\n",
            "[1] {rice,                                                                     \n",
            "     sugar}              => {whole milk}  0.0012          1   0.0012  3.9    12\n",
            "[2] {canned fish,                                                              \n",
            "     hygiene articles}   => {whole milk}  0.0011          1   0.0011  3.9    11\n",
            "[3] {root vegetables,                                                          \n",
            "     butter,                                                                   \n",
            "     rice}               => {whole milk}  0.0010          1   0.0010  3.9    10\n",
            "[4] {root vegetables,                                                          \n",
            "     whipped/sour cream,                                                       \n",
            "     flour}              => {whole milk}  0.0017          1   0.0017  3.9    17\n",
            "[5] {butter,                                                                   \n",
            "     soft cheese,                                                              \n",
            "     domestic eggs}      => {whole milk}  0.0010          1   0.0010  3.9    10\n"
          ],
          "name": "stdout"
        }
      ]
    },
    {
      "cell_type": "code",
      "metadata": {
        "colab": {
          "base_uri": "https://localhost:8080/"
        },
        "id": "A6xggVqmrv5w",
        "outputId": "c77e9ac5-37c7-42ff-d7f0-3511979c5711"
      },
      "source": [
        "rulesR<-apriori(Groceries,parameter=list(supp=0.001,conf=0.08),appearance=list(default=\"lhs\",rhs=\"sugar\"),control=list(verbose=F))   #買了什麼東西的人，會買糖\n",
        "rulesR<-sort(rulesR,decreasing=TRUE,by=\"confidence\")\n",
        "inspect(rulesR[1:5])"
      ],
      "execution_count": 50,
      "outputs": [
        {
          "output_type": "stream",
          "text": [
            "    lhs                          rhs     support confidence coverage lift count\n",
            "[1] {flour,baking powder}     => {sugar} 0.0010  0.56       0.0018   16   10   \n",
            "[2] {flour,margarine}         => {sugar} 0.0016  0.43       0.0038   13   16   \n",
            "[3] {flour,soda}              => {sugar} 0.0011  0.39       0.0028   12   11   \n",
            "[4] {margarine,baking powder} => {sugar} 0.0011  0.37       0.0031   11   11   \n",
            "[5] {curd,flour}              => {sugar} 0.0011  0.35       0.0032   10   11   \n"
          ],
          "name": "stdout"
        }
      ]
    },
    {
      "cell_type": "code",
      "metadata": {
        "colab": {
          "base_uri": "https://localhost:8080/"
        },
        "id": "6e8J9WsNstfg",
        "outputId": "feb5ae79-b224-4dae-fea6-05e155780f0c"
      },
      "source": [
        "rulesL<-apriori(Groceries,parameter=list(supp=0.001,conf=0.15,minlen=2),appearance=list(default=\"rhs\",lhs=\"whole milk\"),control=list(verbose=F))  #買了牛奶的人會買什麼\n",
        "rulesL<-sort(rulesR,decreasing=TRUE,by=\"confidence\")\n",
        "inspect(rulesL[1:5])"
      ],
      "execution_count": 55,
      "outputs": [
        {
          "output_type": "stream",
          "text": [
            "    lhs                          rhs     support confidence coverage lift count\n",
            "[1] {flour,baking powder}     => {sugar} 0.0010  0.56       0.0018   16   10   \n",
            "[2] {flour,margarine}         => {sugar} 0.0016  0.43       0.0038   13   16   \n",
            "[3] {flour,soda}              => {sugar} 0.0011  0.39       0.0028   12   11   \n",
            "[4] {margarine,baking powder} => {sugar} 0.0011  0.37       0.0031   11   11   \n",
            "[5] {curd,flour}              => {sugar} 0.0011  0.35       0.0032   10   11   \n"
          ],
          "name": "stdout"
        }
      ]
    },
    {
      "cell_type": "code",
      "metadata": {
        "colab": {
          "base_uri": "https://localhost:8080/"
        },
        "id": "aLby7sLwrliW",
        "outputId": "f1251cbd-224f-4a1c-d7a7-ab5cb969ae18"
      },
      "source": [
        "rulesL<-apriori(Groceries,parameter=list(supp=0.001,conf=0.15,minlen=2),appearance=list(default=\"rhs\",lhs=\"bottled beer\"),control=list(verbose=F))  #買了啤酒的人，會買甚麼\n",
        "rulesL<-sort(rulesR,decreasing=TRUE,by=\"confidence\")\n",
        "inspect(rulesL[1:5])"
      ],
      "execution_count": 56,
      "outputs": [
        {
          "output_type": "stream",
          "text": [
            "    lhs                          rhs     support confidence coverage lift count\n",
            "[1] {flour,baking powder}     => {sugar} 0.0010  0.56       0.0018   16   10   \n",
            "[2] {flour,margarine}         => {sugar} 0.0016  0.43       0.0038   13   16   \n",
            "[3] {flour,soda}              => {sugar} 0.0011  0.39       0.0028   12   11   \n",
            "[4] {margarine,baking powder} => {sugar} 0.0011  0.37       0.0031   11   11   \n",
            "[5] {curd,flour}              => {sugar} 0.0011  0.35       0.0032   10   11   \n"
          ],
          "name": "stdout"
        }
      ]
    }
  ]
}