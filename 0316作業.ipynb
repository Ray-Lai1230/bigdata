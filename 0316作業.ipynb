{
  "nbformat": 4,
  "nbformat_minor": 0,
  "metadata": {
    "colab": {
      "name": "0316作業.ipynb",
      "provenance": [],
      "collapsed_sections": [],
      "include_colab_link": true
    },
    "kernelspec": {
      "name": "ir",
      "display_name": "R"
    }
  },
  "cells": [
    {
      "cell_type": "markdown",
      "metadata": {
        "id": "view-in-github",
        "colab_type": "text"
      },
      "source": [
        "<a href=\"https://colab.research.google.com/github/Ray-Lai1230/bigdata/blob/main/0316%E4%BD%9C%E6%A5%AD.ipynb\" target=\"_parent\"><img src=\"https://colab.research.google.com/assets/colab-badge.svg\" alt=\"Open In Colab\"/></a>"
      ]
    },
    {
      "cell_type": "code",
      "metadata": {
        "colab": {
          "base_uri": "https://localhost:8080/"
        },
        "id": "4Q4VgiH4ULpJ",
        "outputId": "10ab2c3a-c774-4995-adae-b9a9ae16b210"
      },
      "source": [
        "install.packages(\"jsonlite\")"
      ],
      "execution_count": 1,
      "outputs": [
        {
          "output_type": "stream",
          "text": [
            "Installing package into ‘/usr/local/lib/R/site-library’\n",
            "(as ‘lib’ is unspecified)\n",
            "\n"
          ],
          "name": "stderr"
        }
      ]
    },
    {
      "cell_type": "code",
      "metadata": {
        "colab": {
          "base_uri": "https://localhost:8080/"
        },
        "id": "pYSQEicaUXu7",
        "outputId": "ec3e507f-e296-4964-829b-9a22fa842550"
      },
      "source": [
        "library(\"jsonlite\")\r\n",
        "Peopledata <- jsonlite :: fromJSON(\"https://ws.yunlin.gov.tw/001/Upload/539/opendata/0/1140/0ed937fd-adb4-42b1-9c28-600dfea2d3f9.json\")\r\n",
        "str(Peopledata)"
      ],
      "execution_count": 26,
      "outputs": [
        {
          "output_type": "stream",
          "text": [
            "'data.frame':\t18 obs. of  11 variables:\n",
            " $ 機構類型: chr  \"診所\" \"長期照顧服務居家服務特約居家服務提供單位\" \"長期照顧服務居家服務特約居家服務提供單位\" \"長期照顧服務居家服務特約居家服務提供單位\" ...\n",
            " $ 單位名稱: chr  \"洤華診所\" \"社團法人雲林縣老人福利保護協會附設雲林縣私立長泰老學堂斗六居家服務中心居家式長期照顧服務機構\" \"社團法人雲林縣老人福利保護協會附設雲林縣私立長泰老學堂虎尾居家服務中心居家式長期照顧服務機構\" \"社團法人雲林縣老人長期照護協會附設雲林縣私立斗六小太陽綜合式服務類長期照顧服務機構\" ...\n",
            " $ 縣市    : chr  \"雲林縣\" \"雲林縣\" \"雲林縣\" \"雲林縣\" ...\n",
            " $ 鄉鎮    : chr  \"斗南鎮\" \"斗六市\" \"虎尾鎮\" \"斗六市\" ...\n",
            " $ 機構地址: chr  \"南昌里民權路11-1號\" \"虎溪路23之1號3樓\" \"德興里公安路75巷10號\" \"保庄里建興路146-2號\" ...\n",
            " $ 服務項目: chr  \"專業服務(居家失能個案家庭醫師照護服務)\" \"居家服務\" \"居家服務\" \"居家服務\" ...\n",
            " $ 網站連結: chr  \"\" \"\" \"\" \"\" ...\n",
            " $ 經度    : chr  \"\" \"\" \"\" \"\" ...\n",
            " $ 緯度    : chr  \"\" \"\" \"\" \"\" ...\n",
            " $ 備註    : chr  \"\" \"\" \"\" \"\" ...\n",
            " $ 更新日期: chr  \"44148\" \"44148\" \"44148\" \"44148\" ...\n"
          ],
          "name": "stdout"
        }
      ]
    },
    {
      "cell_type": "code",
      "metadata": {
        "colab": {
          "base_uri": "https://localhost:8080/",
          "height": 51
        },
        "id": "XltSZEeMUpqC",
        "outputId": "50b3b5cf-c4e0-4243-897e-6bf10b2d2f92"
      },
      "source": [
        "head(Peopledata$機構地址,n=50)"
      ],
      "execution_count": 32,
      "outputs": [
        {
          "output_type": "display_data",
          "data": {
            "text/plain": [
              " [1] \"南昌里民權路11-1號\"      \"虎溪路23之1號3樓\"       \n",
              " [3] \"德興里公安路75巷10號\"    \"保庄里建興路146-2號\"    \n",
              " [5] \"興貴村興北70-5號\"        \"東仁里新興街16號\"       \n",
              " [7] \"新德路108號\"             \"崙東村中興路62巷1弄32號\"\n",
              " [9] \"新東路33巷8-3號\\n\"       \"復興村復興路5-2號2樓\\n\" \n",
              "[11] \"中山西路44號號\"          \"公正里莊敬路345號\"      \n",
              "[13] \"育才街83號1樓\"           \"平林里民生路2號\"        \n",
              "[15] \"古坑村中山路33號\"        \"新街里穎寧街37之2號\"    \n",
              "[17] \"鎮東路369號\"             \"鎮南路98號4樓\"          "
            ],
            "text/latex": "\\begin{enumerate*}\n\\item '南昌里民權路11-1號'\n\\item '虎溪路23之1號3樓'\n\\item '德興里公安路75巷10號'\n\\item '保庄里建興路146-2號'\n\\item '興貴村興北70-5號'\n\\item '東仁里新興街16號'\n\\item '新德路108號'\n\\item '崙東村中興路62巷1弄32號'\n\\item '新東路33巷8-3號\\textbackslash{}n'\n\\item '復興村復興路5-2號2樓\\textbackslash{}n'\n\\item '中山西路44號號'\n\\item '公正里莊敬路345號'\n\\item '育才街83號1樓'\n\\item '平林里民生路2號'\n\\item '古坑村中山路33號'\n\\item '新街里穎寧街37之2號'\n\\item '鎮東路369號'\n\\item '鎮南路98號4樓'\n\\end{enumerate*}\n",
            "text/markdown": "1. '南昌里民權路11-1號'\n2. '虎溪路23之1號3樓'\n3. '德興里公安路75巷10號'\n4. '保庄里建興路146-2號'\n5. '興貴村興北70-5號'\n6. '東仁里新興街16號'\n7. '新德路108號'\n8. '崙東村中興路62巷1弄32號'\n9. '新東路33巷8-3號\\n'\n10. '復興村復興路5-2號2樓\\n'\n11. '中山西路44號號'\n12. '公正里莊敬路345號'\n13. '育才街83號1樓'\n14. '平林里民生路2號'\n15. '古坑村中山路33號'\n16. '新街里穎寧街37之2號'\n17. '鎮東路369號'\n18. '鎮南路98號4樓'\n\n\n",
            "text/html": [
              "<style>\n",
              ".list-inline {list-style: none; margin:0; padding: 0}\n",
              ".list-inline>li {display: inline-block}\n",
              ".list-inline>li:not(:last-child)::after {content: \"\\00b7\"; padding: 0 .5ex}\n",
              "</style>\n",
              "<ol class=list-inline><li>'南昌里民權路11-1號'</li><li>'虎溪路23之1號3樓'</li><li>'德興里公安路75巷10號'</li><li>'保庄里建興路146-2號'</li><li>'興貴村興北70-5號'</li><li>'東仁里新興街16號'</li><li>'新德路108號'</li><li>'崙東村中興路62巷1弄32號'</li><li>'新東路33巷8-3號\\n'</li><li>'復興村復興路5-2號2樓\\n'</li><li>'中山西路44號號'</li><li>'公正里莊敬路345號'</li><li>'育才街83號1樓'</li><li>'平林里民生路2號'</li><li>'古坑村中山路33號'</li><li>'新街里穎寧街37之2號'</li><li>'鎮東路369號'</li><li>'鎮南路98號4樓'</li></ol>\n"
            ]
          },
          "metadata": {
            "tags": []
          }
        }
      ]
    },
    {
      "cell_type": "code",
      "metadata": {
        "colab": {
          "base_uri": "https://localhost:8080/",
          "height": 102
        },
        "id": "Z0ICDDD_YD24",
        "outputId": "1a0290ee-7bc6-4fe1-cafd-b0f0612f2aed"
      },
      "source": [
        "table(Peopledata$機構類型)"
      ],
      "execution_count": 33,
      "outputs": [
        {
          "output_type": "display_data",
          "data": {
            "text/plain": [
              "\n",
              "                                    診所 \n",
              "                                       1 \n",
              "長期照顧服務居家服務特約居家服務提供單位 \n",
              "                                      17 "
            ]
          },
          "metadata": {
            "tags": []
          }
        }
      ]
    },
    {
      "cell_type": "code",
      "metadata": {
        "colab": {
          "base_uri": "https://localhost:8080/",
          "height": 646
        },
        "id": "uPesB3GQYfaW",
        "outputId": "1ec69077-1ca8-4682-97ac-79cd53f419a7"
      },
      "source": [
        "table(Peopledata$單位名稱)"
      ],
      "execution_count": 34,
      "outputs": [
        {
          "output_type": "display_data",
          "data": {
            "text/plain": [
              "\n",
              "                      佛教慈濟醫療財團法人附設嘉義縣私立大林慈濟居家式服務類長期照顧服務機構 \n",
              "                                                                                           1 \n",
              "            國立成功大學醫學院附設醫院斗六分院附設雲林縣元氣長青居家式服務類長期照顧服務機構 \n",
              "                                                                                           1 \n",
              "                                      太舜健康產業股份有限公司附設雲林縣私立太舜居家長照機構 \n",
              "                                                                                           1 \n",
              "                                              樂臨企業有限公司附設雲林縣私立樂臨居家長照機構 \n",
              "                                                                                           1 \n",
              "                                          永安健康事業有限公司附設雲林縣私立永安居家長照機構 \n",
              "                                                                                           1 \n",
              "                                                                                    洤華診所 \n",
              "                                                                                           1 \n",
              "社團法人中華民國紅十字會台灣省雲林縣支會附設雲林縣私立不老坣東勢居家式服務類長期照顧服務機構 \n",
              "                                                                                           1 \n",
              "                社團法人雲林縣復健青年協進會附設雲林縣私立心圓寶居家式服務類長期照顧服務機構 \n",
              "                                                                                           1 \n",
              "社團法人雲林縣老人福利保護協會附設雲林縣私立長泰老學堂斗六居家服務中心居家式長期照顧服務機構 \n",
              "                                                                                           1 \n",
              "社團法人雲林縣老人福利保護協會附設雲林縣私立長泰老學堂虎尾居家服務中心居家式長期照顧服務機構 \n",
              "                                                                                           1 \n",
              "          社團法人雲林縣老人長期照護協會附設雲林縣私立古坑小太陽綜合式服務類長期照顧服務機構 \n",
              "                                                                                           1 \n",
              "          社團法人雲林縣老人長期照護協會附設雲林縣私立斗六小太陽綜合式服務類長期照顧服務機構 \n",
              "                                                                                           1 \n",
              "                        財團法人伊甸社會福利基金會附設雲林縣私立居家式服務類長期照顧服務機構 \n",
              "                                                                                           1 \n",
              "                    財團法人伊甸社會福利基金會附設雲林縣私立耆福綜合式服務類長期照顧服務機構 \n",
              "                                                                                           1 \n",
              "                        財團法人老五老基金會附設雲林縣私立老五老居家式服務類長期照顧服務機構 \n",
              "                                                                                           1 \n",
              "                                                  雲林縣四湖鄉立居家式服務類長期照顧服務機構 \n",
              "                                                                                           1 \n",
              "                                                        雲林縣私立庭安居家式長期照顧服務機構 \n",
              "                                                                                           1 \n",
              "                  雲林縣聖心社會關懷協會附設雲林縣私立他里霧樂活綜合式服務類長期照顧服務機構 \n",
              "                                                                                           1 "
            ]
          },
          "metadata": {
            "tags": []
          }
        }
      ]
    },
    {
      "cell_type": "code",
      "metadata": {
        "colab": {
          "base_uri": "https://localhost:8080/",
          "height": 68
        },
        "id": "EYmQKESnYiJm",
        "outputId": "39741e2b-61bc-4c7e-dfe1-883d657cf253"
      },
      "source": [
        "table(Peopledata$更新日期)"
      ],
      "execution_count": 42,
      "outputs": [
        {
          "output_type": "display_data",
          "data": {
            "text/plain": [
              "\n",
              "44148 \n",
              "   18 "
            ]
          },
          "metadata": {
            "tags": []
          }
        }
      ]
    },
    {
      "cell_type": "code",
      "metadata": {
        "colab": {
          "base_uri": "https://localhost:8080/",
          "height": 68
        },
        "id": "MJmWrvn7ZBpg",
        "outputId": "307f4865-e74f-47d0-e473-df052d404b4d"
      },
      "source": [
        "table(Peopledata$服務項目)\r\n"
      ],
      "execution_count": 43,
      "outputs": [
        {
          "output_type": "display_data",
          "data": {
            "text/plain": [
              "\n",
              "專業服務(居家失能個案家庭醫師照護服務)                               居家服務 \n",
              "                                     1                                     17 "
            ]
          },
          "metadata": {
            "tags": []
          }
        }
      ]
    },
    {
      "cell_type": "code",
      "metadata": {
        "colab": {
          "base_uri": "https://localhost:8080/",
          "height": 68
        },
        "id": "U9F6hq0cZH0B",
        "outputId": "b11e9d0c-5666-472d-8493-91ddfdf32d4a"
      },
      "source": [
        "table(Peopledata$鄉鎮)"
      ],
      "execution_count": 44,
      "outputs": [
        {
          "output_type": "display_data",
          "data": {
            "text/plain": [
              "\n",
              "二崙鄉 北港鎮 古坑鄉 四湖鄉 大林鎮 斗六市 斗南鎮 東勢鄉 莿桐鄉 虎尾鎮 \n",
              "     1      3      1      1      1      6      2      1      1      1 "
            ]
          },
          "metadata": {
            "tags": []
          }
        }
      ]
    }
  ]
}